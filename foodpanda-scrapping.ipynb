{
 "cells": [
  {
   "cell_type": "code",
   "execution_count": 16,
   "metadata": {},
   "outputs": [],
   "source": [
    "import json\n",
    "import requests\n",
    "from bs4 import BeautifulSoup"
   ]
  },
  {
   "cell_type": "code",
   "execution_count": 40,
   "metadata": {},
   "outputs": [],
   "source": [
    "venue_url = 'https://www.foodpanda.pk/restaurant/s3qf/burger-in-law'\n",
    "venue_page_html = requests.get(venue_url)"
   ]
  },
  {
   "cell_type": "code",
   "execution_count": 58,
   "metadata": {},
   "outputs": [],
   "source": [
    "beautifiedContent = BeautifulSoup(venue_page_html.content, 'html.parser')"
   ]
  },
  {
   "cell_type": "code",
   "execution_count": 73,
   "metadata": {},
   "outputs": [
    {
     "name": "stdout",
     "output_type": "stream",
     "text": [
      "\n",
      "\n",
      "Burgers\n",
      "\n",
      "\n",
      "\n",
      "\n",
      "Fries\n",
      "\n",
      "\n",
      "12\n"
     ]
    }
   ],
   "source": [
    "dish_categories = beautifiedContent.find('div', class_=\"dish-category-header\")\n",
    "print(dish_categories.text)\n",
    "next_dish_cat = dish_categories.find_next_sibling('div', class_=\"dish-category-header\")\n",
    "print(next_dish_cat.text)\n",
    "\n",
    "dish_names = beautifiedContent.find_all('h3', class_=\"dish-name\")\n",
    "#dishes_count = count(dish_names)\n",
    "dish_count = 0\n",
    "for dish in dish_names:\n",
    "    dish_count = dish_count+1\n",
    "print(dish_count)"
   ]
  },
  {
   "cell_type": "code",
   "execution_count": 42,
   "metadata": {},
   "outputs": [],
   "source": [
    "dish_names = beautifiedContent.find_all('h3', class_=\"dish-name\")\n",
    "dish_prices = beautifiedContent.find_all('span', class_=\"p-price\")"
   ]
  },
  {
   "cell_type": "code",
   "execution_count": 43,
   "metadata": {},
   "outputs": [],
   "source": [
    "json_file_name = venue_url.rsplit('/', 1)[1] + '.json'"
   ]
  },
  {
   "cell_type": "code",
   "execution_count": 44,
   "metadata": {},
   "outputs": [
    {
     "name": "stdout",
     "output_type": "stream",
     "text": [
      "==================================\n",
      "Please, find your file in root directory named: burger-in-law.json\n",
      "==================================\n"
     ]
    }
   ],
   "source": [
    "if len(dish_names) == len(dish_prices):\n",
    "    with open(json_file_name, 'w', encoding='utf-8') as file:\n",
    "        words = []\n",
    "        for i,val in enumerate(dish_names):\n",
    "            words.append([dish_names[i].text, dish_prices[i].text])\n",
    "        json.dump(words, file, ensure_ascii=False, indent=4)\n",
    "        print(\"==================================\")\n",
    "        print(\"Please, find your file in root directory named: \"+ json_file_name)\n",
    "        print(\"==================================\")"
   ]
  },
  {
   "cell_type": "code",
   "execution_count": null,
   "metadata": {},
   "outputs": [],
   "source": []
  },
  {
   "cell_type": "code",
   "execution_count": null,
   "metadata": {},
   "outputs": [],
   "source": []
  }
 ],
 "metadata": {
  "kernelspec": {
   "display_name": "Python 3",
   "language": "python",
   "name": "python3"
  },
  "language_info": {
   "codemirror_mode": {
    "name": "ipython",
    "version": 3
   },
   "file_extension": ".py",
   "mimetype": "text/x-python",
   "name": "python",
   "nbconvert_exporter": "python",
   "pygments_lexer": "ipython3",
   "version": "3.7.1"
  }
 },
 "nbformat": 4,
 "nbformat_minor": 2
}
