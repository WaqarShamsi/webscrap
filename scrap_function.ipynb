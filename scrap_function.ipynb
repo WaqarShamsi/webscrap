{
 "cells": [
  {
   "cell_type": "code",
   "execution_count": 47,
   "metadata": {},
   "outputs": [],
   "source": [
    "import json\n",
    "import requests\n",
    "from bs4 import BeautifulSoup"
   ]
  },
  {
   "cell_type": "code",
   "execution_count": 55,
   "metadata": {},
   "outputs": [],
   "source": [
    "def scrapUrl(venue_url):\n",
    "    \n",
    "    venue_page_html = requests.get(venue_url)\n",
    "    beautifiedContent = BeautifulSoup(venue_page_html.content, 'html.parser')\n",
    "    \n",
    "    json_file_name = venue_url.rsplit('/', 1)[1] + '.json'\n",
    "    dishes = []\n",
    "\n",
    "    for singleCategory in beautifiedContent.find_all('div', class_=\"dish-category-header\"):\n",
    "\n",
    "        category_dish_list = singleCategory.find_next_sibling('ul', class_=\"dish-list\")\n",
    "        dish_names = category_dish_list.find_all('h3', class_=\"dish-name\")\n",
    "        dish_prices = category_dish_list.find_all('span', class_=\"p-price\")\n",
    "        dish_desc = category_dish_list.find_all('p', class_=\"dish-description\")\n",
    "\n",
    "        if len(dish_names) == len(dish_prices):\n",
    "            with open(json_file_name, 'w', encoding='utf-8') as file:\n",
    "                newDishes = []\n",
    "                for i,val in enumerate(dish_names):\n",
    "                    new_desc = \"\"\n",
    "                    if(i < len(dish_desc)):\n",
    "                        new_desc = dish_desc[i].text.strip('\\n')\n",
    "                    newItem = {\n",
    "                        \"name\": dish_names[i].text.strip('\\n'),\n",
    "                        \"desc\": new_desc,\n",
    "                        \"price\": dish_prices[i].text.strip('\\n')\n",
    "                    }\n",
    "                    newDishes.append(newItem)\n",
    "                dishes.append([singleCategory.text.strip('\\n'), newDishes])\n",
    "                json.dump(dishes, file, ensure_ascii=False, indent=4)"
   ]
  },
  {
   "cell_type": "code",
   "execution_count": 60,
   "metadata": {},
   "outputs": [
    {
     "name": "stdout",
     "output_type": "stream",
     "text": [
      "1\n",
      "8\n",
      "0\n",
      "0\n",
      "0\n",
      "0\n",
      "0\n",
      "0\n",
      "0\n",
      "0\n",
      "1\n",
      "0\n"
     ]
    }
   ],
   "source": [
    "scrapUrl('https://www.foodpanda.pk/restaurant/s5dz/chips-fast-food-badar-commercial')"
   ]
  },
  {
   "cell_type": "code",
   "execution_count": null,
   "metadata": {},
   "outputs": [],
   "source": []
  },
  {
   "cell_type": "code",
   "execution_count": null,
   "metadata": {},
   "outputs": [],
   "source": []
  },
  {
   "cell_type": "code",
   "execution_count": null,
   "metadata": {},
   "outputs": [],
   "source": []
  },
  {
   "cell_type": "code",
   "execution_count": null,
   "metadata": {},
   "outputs": [],
   "source": []
  },
  {
   "cell_type": "code",
   "execution_count": null,
   "metadata": {},
   "outputs": [],
   "source": []
  },
  {
   "cell_type": "code",
   "execution_count": null,
   "metadata": {},
   "outputs": [],
   "source": []
  },
  {
   "cell_type": "code",
   "execution_count": null,
   "metadata": {},
   "outputs": [],
   "source": []
  }
 ],
 "metadata": {
  "kernelspec": {
   "display_name": "Python 3",
   "language": "python",
   "name": "python3"
  },
  "language_info": {
   "codemirror_mode": {
    "name": "ipython",
    "version": 3
   },
   "file_extension": ".py",
   "mimetype": "text/x-python",
   "name": "python",
   "nbconvert_exporter": "python",
   "pygments_lexer": "ipython3",
   "version": "3.7.1"
  }
 },
 "nbformat": 4,
 "nbformat_minor": 2
}
